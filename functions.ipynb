{
 "cells": [
  {
   "cell_type": "markdown",
   "metadata": {},
   "source": [
    "functions are of two types\n",
    "- pre-defined\n",
    "   - print,type,input,sum\n",
    "- user-defined\n",
    "   - 'defined by user(coder)'\n",
    "     - code reuse\n",
    "     -  easy debugging\n",
    "     - manageable"
   ]
  },
  {
   "cell_type": "code",
   "execution_count": 1,
   "metadata": {},
   "outputs": [],
   "source": [
    "# defining the function\n",
    "def greetings():\n",
    "    print('**')\n",
    "    print('Good Morning!')\n",
    "    print('**')\n"
   ]
  },
  {
   "cell_type": "code",
   "execution_count": 2,
   "metadata": {},
   "outputs": [
    {
     "data": {
      "text/plain": [
       "<function __main__.greetings()>"
      ]
     },
     "execution_count": 2,
     "metadata": {},
     "output_type": "execute_result"
    }
   ],
   "source": [
    "# calling  a function(using)\n",
    "greetings"
   ]
  },
  {
   "cell_type": "code",
   "execution_count": 3,
   "metadata": {},
   "outputs": [
    {
     "name": "stdout",
     "output_type": "stream",
     "text": [
      "**\n",
      "Good Morning!\n",
      "**\n"
     ]
    }
   ],
   "source": [
    "greetings()"
   ]
  },
  {
   "cell_type": "code",
   "execution_count": 14,
   "metadata": {},
   "outputs": [],
   "source": [
    "def roll():\n",
    "    from random import randint\n",
    "    dice = randint(1,6)\n",
    "    print(f'🎲{dice}')"
   ]
  },
  {
   "cell_type": "code",
   "execution_count": 23,
   "metadata": {},
   "outputs": [
    {
     "name": "stdout",
     "output_type": "stream",
     "text": [
      "🎲6\n"
     ]
    }
   ],
   "source": [
    "roll()"
   ]
  },
  {
   "cell_type": "code",
   "execution_count": 5,
   "metadata": {},
   "outputs": [],
   "source": [
    "def area(l,b):\n",
    "    a=l*b\n",
    "    print(f'area->{a}')"
   ]
  },
  {
   "cell_type": "code",
   "execution_count": 6,
   "metadata": {},
   "outputs": [
    {
     "name": "stdout",
     "output_type": "stream",
     "text": [
      "area->192\n"
     ]
    }
   ],
   "source": [
    "area(24,8)"
   ]
  },
  {
   "cell_type": "code",
   "execution_count": 7,
   "metadata": {},
   "outputs": [],
   "source": [
    "#professional way of writing a function\n",
    "def perimeter(l:int,b:int):\n",
    "    \"\"\"\n",
    "    calculates the perimeter of rectangle\n",
    "    \"\"\"\n",
    "    p=2*(l+b)\n",
    "    print(p)"
   ]
  },
  {
   "cell_type": "code",
   "execution_count": 8,
   "metadata": {},
   "outputs": [
    {
     "name": "stdout",
     "output_type": "stream",
     "text": [
      "64\n"
     ]
    }
   ],
   "source": [
    "perimeter(24,8)"
   ]
  },
  {
   "cell_type": "code",
   "execution_count": 11,
   "metadata": {},
   "outputs": [],
   "source": [
    "def fiver():\n",
    "    from random import choices\n",
    "    data=list(range(1,101))\n",
    "    return choices(data,k=5)\n"
   ]
  },
  {
   "cell_type": "code",
   "execution_count": 13,
   "metadata": {},
   "outputs": [
    {
     "name": "stdout",
     "output_type": "stream",
     "text": [
      "[36, 97, 7, 42, 11]\n"
     ]
    }
   ],
   "source": [
    "print(fiver())"
   ]
  },
  {
   "cell_type": "code",
   "execution_count": 15,
   "metadata": {},
   "outputs": [
    {
     "name": "stdout",
     "output_type": "stream",
     "text": [
      "[55, 69, 23, 31, 50]\n",
      "[36, 100, 45, 93, 9]\n"
     ]
    }
   ],
   "source": [
    "trial1=fiver()\n",
    "trial2=fiver()\n",
    "print(trial1)\n",
    "print(trial2)"
   ]
  },
  {
   "cell_type": "code",
   "execution_count": 29,
   "metadata": {},
   "outputs": [],
   "source": [
    "def area(r):\n",
    "    a=3.14*r*r\n",
    "    return a\n"
   ]
  },
  {
   "cell_type": "code",
   "execution_count": 31,
   "metadata": {},
   "outputs": [
    {
     "data": {
      "text/plain": [
       "200.96"
      ]
     },
     "execution_count": 31,
     "metadata": {},
     "output_type": "execute_result"
    }
   ],
   "source": [
    "area(8)"
   ]
  },
  {
   "cell_type": "code",
   "execution_count": 36,
   "metadata": {},
   "outputs": [
    {
     "name": "stdout",
     "output_type": "stream",
     "text": [
      "area of circle with radius2is12.56\n"
     ]
    }
   ],
   "source": [
    "def area_of_circle(r):\n",
    "    return 3.14*r*r\n",
    "    radius=int(input('enter the radius of the ciecle:'))\n",
    "ans=area_of_circle(radius)\n",
    "print(f'area of circle with radius{radius}is{ans:.2f}')"
   ]
  },
  {
   "cell_type": "code",
   "execution_count": 60,
   "metadata": {},
   "outputs": [],
   "source": [
    "def vow(a:str):\n",
    "    return a.replace('a','').replace('e','').replace('i','').replace('o','').replace('u','')\n"
   ]
  },
  {
   "cell_type": "code",
   "execution_count": 62,
   "metadata": {},
   "outputs": [
    {
     "data": {
      "text/plain": [
       "'dsh'"
      ]
     },
     "execution_count": 62,
     "metadata": {},
     "output_type": "execute_result"
    }
   ],
   "source": [
    "vow('disha')"
   ]
  },
  {
   "cell_type": "code",
   "execution_count": 67,
   "metadata": {},
   "outputs": [],
   "source": [
    "def summer(a,b,c=0,d=0):\n",
    "    return a+b+c+d"
   ]
  },
  {
   "cell_type": "code",
   "execution_count": 71,
   "metadata": {},
   "outputs": [
    {
     "data": {
      "text/plain": [
       "20"
      ]
     },
     "execution_count": 71,
     "metadata": {},
     "output_type": "execute_result"
    }
   ],
   "source": [
    "summer(20,10)\n",
    "summer(10,5,8)#positional arguements\n",
    "summer(10,8,d=12)#named arguements\n",
    "summer(3,6,d=8,c=5)# named arguements allows changing the order of arguements\n",
    "summer(a=4,c=6,b=2,d=8)"
   ]
  },
  {
   "cell_type": "markdown",
   "metadata": {},
   "source": [
    "lambda expression - anonymous function\n",
    "- 'f(x)=x+5*x-2'\n",
    "  - 'f(2)'"
   ]
  },
  {
   "cell_type": "code",
   "execution_count": 78,
   "metadata": {},
   "outputs": [
    {
     "name": "stdout",
     "output_type": "stream",
     "text": [
      "<function <lambda> at 0x000001FF87D996C0>\n"
     ]
    }
   ],
   "source": [
    "f=lambda x:x+5*x-2\n",
    "g=lambda x,y:x+y/2\n",
    "print(f)"
   ]
  },
  {
   "cell_type": "code",
   "execution_count": 80,
   "metadata": {},
   "outputs": [
    {
     "name": "stdout",
     "output_type": "stream",
     "text": [
      "10\n",
      "28\n",
      "7.0\n",
      "11.0\n"
     ]
    }
   ],
   "source": [
    "print(f(2))\n",
    "print(f(5))\n",
    "print(g(3,8))\n",
    "print(g(8,6))"
   ]
  },
  {
   "cell_type": "code",
   "execution_count": 83,
   "metadata": {},
   "outputs": [
    {
     "name": "stdout",
     "output_type": "stream",
     "text": [
      "113.03999999999999\n",
      "28\n"
     ]
    }
   ],
   "source": [
    "ac=lambda r:3.14*r*r\n",
    "print(ac(6))\n",
    "perimeter=lambda l,b:2*(l+b)\n",
    "print(perimeter(8,6))"
   ]
  },
  {
   "cell_type": "code",
   "execution_count": 1,
   "metadata": {},
   "outputs": [
    {
     "name": "stdout",
     "output_type": "stream",
     "text": [
      "1\n",
      "cube of all values\n",
      "8\n",
      "cube of all values\n",
      "27\n",
      "cube of all values\n",
      "64\n",
      "cube of all values\n",
      "125\n",
      "cube of all values\n"
     ]
    }
   ],
   "source": [
    "X=[1,2,3,4,5]\n",
    "for i in X:\n",
    "    print(i**3)\n",
    "    x=[1,2,3,4,5]\n",
    "    print('cube of all values')"
   ]
  },
  {
   "cell_type": "markdown",
   "metadata": {},
   "source": [
    "map and filter"
   ]
  },
  {
   "cell_type": "markdown",
   "metadata": {},
   "source": [
    "lambda i : i**3"
   ]
  },
  {
   "cell_type": "code",
   "execution_count": 4,
   "metadata": {},
   "outputs": [
    {
     "data": {
      "text/plain": [
       "[1, 8, 27, 64, 125]"
      ]
     },
     "execution_count": 4,
     "metadata": {},
     "output_type": "execute_result"
    }
   ],
   "source": [
    "list(map(lambda i:i**3,x))"
   ]
  },
  {
   "cell_type": "code",
   "execution_count": 6,
   "metadata": {},
   "outputs": [
    {
     "data": {
      "text/plain": [
       "[11, 12, 13, 14, 15]"
      ]
     },
     "execution_count": 6,
     "metadata": {},
     "output_type": "execute_result"
    }
   ],
   "source": [
    "list(map(lambda i:i+10,x))"
   ]
  },
  {
   "cell_type": "code",
   "execution_count": 11,
   "metadata": {},
   "outputs": [
    {
     "data": {
      "text/plain": [
       "[1, 2, 3]"
      ]
     },
     "execution_count": 11,
     "metadata": {},
     "output_type": "execute_result"
    }
   ],
   "source": [
    "a=['1','2','3']\n",
    "list(map(int,a))"
   ]
  },
  {
   "cell_type": "code",
   "execution_count": 12,
   "metadata": {},
   "outputs": [
    {
     "data": {
      "text/plain": [
       "[2, 4]"
      ]
     },
     "execution_count": 12,
     "metadata": {},
     "output_type": "execute_result"
    }
   ],
   "source": [
    "list(filter(lambda i:i%2==0,x))"
   ]
  },
  {
   "cell_type": "code",
   "execution_count": 14,
   "metadata": {},
   "outputs": [
    {
     "name": "stdout",
     "output_type": "stream",
     "text": [
      "['file4.jpg,file5.jpg']\n"
     ]
    }
   ],
   "source": [
    "files=['file1.txt','file2.txt','file3.txt','file4.jpg,file5.jpg']\n",
    "f=lambda i:i.endswith('.jpg')\n",
    "text_files=list(filter(f,files))\n",
    "print(text_files)"
   ]
  },
  {
   "cell_type": "markdown",
   "metadata": {},
   "source": [
    "*args and **kwargs"
   ]
  },
  {
   "cell_type": "code",
   "execution_count": 28,
   "metadata": {},
   "outputs": [],
   "source": [
    "def multiplier(data):\n",
    "    if not isinstance(data,list):\n",
    "        print('data can only be of list type')\n",
    "        return #function stops and return\n",
    "    result = 1\n",
    "    for i in data:\n",
    "        result *= i\n",
    "    return result\n",
    "    \n"
   ]
  },
  {
   "cell_type": "code",
   "execution_count": 29,
   "metadata": {},
   "outputs": [
    {
     "data": {
      "text/plain": [
       "18"
      ]
     },
     "execution_count": 29,
     "metadata": {},
     "output_type": "execute_result"
    }
   ],
   "source": [
    "multiplier([2,1,9])"
   ]
  },
  {
   "cell_type": "code",
   "execution_count": 35,
   "metadata": {},
   "outputs": [],
   "source": [
    "def multiplier_v2(*numbers):\n",
    "    ans=1\n",
    "    for i in numbers:\n",
    "        ans*=i\n",
    "    return ans"
   ]
  },
  {
   "cell_type": "code",
   "execution_count": 36,
   "metadata": {},
   "outputs": [
    {
     "data": {
      "text/plain": [
       "60"
      ]
     },
     "execution_count": 36,
     "metadata": {},
     "output_type": "execute_result"
    }
   ],
   "source": [
    "multiplier_v2(3,4,5)"
   ]
  },
  {
   "cell_type": "code",
   "execution_count": 40,
   "metadata": {},
   "outputs": [],
   "source": [
    "def expenses(**items):\n",
    "    for k,v in items.items():\n",
    "        print(f'{k:<10}=${v:.2f}')"
   ]
  },
  {
   "cell_type": "code",
   "execution_count": 41,
   "metadata": {},
   "outputs": [
    {
     "name": "stdout",
     "output_type": "stream",
     "text": [
      "transport =$200.00\n",
      "food      =$500.00\n"
     ]
    }
   ],
   "source": [
    "expenses(transport=200,food=500)"
   ]
  },
  {
   "cell_type": "code",
   "execution_count": null,
   "metadata": {},
   "outputs": [],
   "source": []
  }
 ],
 "metadata": {
  "kernelspec": {
   "display_name": "base",
   "language": "python",
   "name": "python3"
  },
  "language_info": {
   "codemirror_mode": {
    "name": "ipython",
    "version": 3
   },
   "file_extension": ".py",
   "mimetype": "text/x-python",
   "name": "python",
   "nbconvert_exporter": "python",
   "pygments_lexer": "ipython3",
   "version": "3.12.3"
  }
 },
 "nbformat": 4,
 "nbformat_minor": 2
}
