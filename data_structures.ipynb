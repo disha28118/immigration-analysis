{
 "cells": [
  {
   "cell_type": "markdown",
   "metadata": {},
   "source": [
    "list -> indexed - ordered - mutable - contains duplicates - just values - [] - list() \n",
    "\n",
    "  tuple-> indexed - ordered - immutable - contains duplicates - just values - () - tuple()\n",
    "  \n",
    "  set-> unindexed - unordered - mutable - only unique values - just values - {} - set()\n",
    "  \n",
    "  dictionary-> unindexed - ordered - mutable - contains duplicates - key value pairs - {} - dict()\n",
    "  \n",
    "all are heterogenous(mixed values)"
   ]
  },
  {
   "cell_type": "markdown",
   "metadata": {},
   "source": [
    "# list\n",
    "- creating\n",
    "- indexing n slicing(same as string)\n",
    "- methods\n",
    "- comprehension"
   ]
  },
  {
   "cell_type": "code",
   "execution_count": 1,
   "metadata": {},
   "outputs": [
    {
     "name": "stdout",
     "output_type": "stream",
     "text": [
      "[]\n",
      "[1, 2, 3, 4]\n",
      "['apple', 'banana', 'cherry']\n",
      "['apple', 1, 'banana', 2, 'cherry', 3]\n",
      "[[1, 2, 3], [4, 5, 6], [7, 8, 9]]\n",
      "[['apple', 1], ['banana', 2], ['cherry', 3, 120]]\n"
     ]
    }
   ],
   "source": [
    "a=[]#empty list\n",
    "b=[1,2,3,4]#numerical list\n",
    "c=['apple','banana','cherry']#string list\n",
    "d=['apple',1,'banana',2,'cherry',3]#mixed list\n",
    "e=[[1,2,3],[4,5,6],[7,8,9]]#list of lists\n",
    "f=[['apple',1],['banana',2],['cherry',3,120]]\n",
    "print(a)\n",
    "print(b)\n",
    "print(c)\n",
    "print(d)\n",
    "print(e)\n",
    "print(f)"
   ]
  },
  {
   "cell_type": "code",
   "execution_count": 2,
   "metadata": {},
   "outputs": [
    {
     "name": "stdout",
     "output_type": "stream",
     "text": [
      "[1, 2, 3, 4]\n",
      "[1, 2, 3, 4]\n",
      "[1, 2, 3, 4]\n",
      "[1, 2, 3, 4]\n"
     ]
    }
   ],
   "source": [
    "for i in b:\n",
    "    print(b)"
   ]
  },
  {
   "cell_type": "code",
   "execution_count": 5,
   "metadata": {},
   "outputs": [
    {
     "name": "stdout",
     "output_type": "stream",
     "text": [
      "['h', 'e', 'l', 'l', 'o']\n",
      "[0, 1, 2, 3, 4, 5, 6, 7, 8, 9]\n",
      "[1, 2, 3, 4, 5]\n",
      "[1, 2, 1, 2, 1, 2, 1, 2, 1, 2, 1, 2, 1, 2, 1, 2, 1, 2, 1, 2]\n"
     ]
    }
   ],
   "source": [
    "g=list('hello')\n",
    "h=list(range(10))\n",
    "i=list((1,2,3,4,5))\n",
    "j=[1,2]*10 #duplicate list\n",
    "print(g)\n",
    "print(h)\n",
    "print(i)\n",
    "print(j)"
   ]
  },
  {
   "cell_type": "code",
   "execution_count": 6,
   "metadata": {},
   "outputs": [
    {
     "name": "stdout",
     "output_type": "stream",
     "text": [
      "['Jab we met', 'Tamasha', 'Rockstar', 'Kal ho na ho', 'Annabelle']\n",
      "5\n",
      "first movie:  Jab we met\n",
      "last movie:  Annabelle\n",
      "second movie:  Tamasha\n",
      "third movie:  Rockstar\n"
     ]
    }
   ],
   "source": [
    "movies=['Jab we met','Tamasha','Rockstar','Kal ho na ho','Annabelle']\n",
    "print(movies)\n",
    "print(len(movies))\n",
    "print('first movie: ',movies[0])\n",
    "print('last movie: ',movies[-1])\n",
    "print('second movie: ',movies[1])\n",
    "print('third movie: ',movies[2])"
   ]
  },
  {
   "cell_type": "code",
   "execution_count": 9,
   "metadata": {},
   "outputs": [
    {
     "name": "stdout",
     "output_type": "stream",
     "text": [
      "[1, 2, 3]\n",
      "[8, 9, 10]\n",
      "[3, 4, 5, 6, 7, 8]\n",
      "[10, 9, 8, 7, 6, 5, 4, 3, 2, 1]\n"
     ]
    }
   ],
   "source": [
    "numbers=[1,2,3,4,5,6,7,8,9,10]\n",
    "print(numbers[:3])\n",
    "print(numbers[-3:])\n",
    "print(numbers[2:-2])\n",
    "print(numbers[::-1])"
   ]
  },
  {
   "cell_type": "markdown",
   "metadata": {},
   "source": [
    "# list methods (11)\n",
    "- adding/updating\n",
    "  - `append()`\n",
    "  - `extend()`\n",
    "  - `insert()`\n",
    "- removing/deleting\n",
    "  - `remove()`\n",
    "  - `pop()`\n",
    "  - `clear()`\n",
    "- utility\n",
    "  - `sort()`\n",
    "  - `reverse()`\n",
    "  - `index()`\n",
    "  - `count()`\n",
    "  - `copy()`"
   ]
  },
  {
   "cell_type": "code",
   "execution_count": 10,
   "metadata": {},
   "outputs": [
    {
     "name": "stdout",
     "output_type": "stream",
     "text": [
      "fav books: ['othello', 'i dont love you anymors', 'warmth', 'the girl', 'end']\n",
      "hated books: ['maths', 'physics', 'history']\n"
     ]
    }
   ],
   "source": [
    "fav_books=[]\n",
    "hated_books=[]\n",
    "for i in range(5):\n",
    "    book=input('enter your fav book:')\n",
    "    fav_books.append(book)\n",
    "for i in range(3):\n",
    "    book=input('enter your hated book:')\n",
    "    hated_books.append(book)\n",
    "\n",
    "print('fav books:',fav_books)\n",
    "print('hated books:',hated_books)"
   ]
  },
  {
   "cell_type": "code",
   "execution_count": 11,
   "metadata": {},
   "outputs": [
    {
     "name": "stdout",
     "output_type": "stream",
     "text": [
      "['othello', 'i dont love you anymors', 'warmth', 'the girl', 'end', 'maths', 'physics', 'history']\n"
     ]
    }
   ],
   "source": [
    "#merge two lists creating a new list\n",
    "books=fav_books+hated_books\n",
    "print(books)"
   ]
  },
  {
   "cell_type": "code",
   "execution_count": 12,
   "metadata": {},
   "outputs": [
    {
     "name": "stdout",
     "output_type": "stream",
     "text": [
      "['othello', 'i dont love you anymors', 'warmth', 'the girl', 'end', 'maths', 'physics', 'history', 'love', 'hate']\n",
      "total books: 10\n"
     ]
    }
   ],
   "source": [
    "#adding alist to existing list\n",
    "books.extend(['love','hate'])\n",
    "print(books)\n",
    "print('total books:',len(books))"
   ]
  },
  {
   "cell_type": "code",
   "execution_count": 14,
   "metadata": {},
   "outputs": [
    {
     "name": "stdout",
     "output_type": "stream",
     "text": [
      "['othello', 'i dont love you anymors', 'warmth', 'the girl', 'end', 'maths', 'physics', 'history', 'love', 'hate', 'Julius Caeser', ['Julius Caeser', 'dark']]\n"
     ]
    }
   ],
   "source": [
    "books.append(['Julius Caeser','dark'])#nesting\n",
    "print(books)"
   ]
  },
  {
   "cell_type": "code",
   "execution_count": 15,
   "metadata": {},
   "outputs": [
    {
     "name": "stdout",
     "output_type": "stream",
     "text": [
      "\u001b[1;31mSignature:\u001b[0m \u001b[0mbooks\u001b[0m\u001b[1;33m.\u001b[0m\u001b[0minsert\u001b[0m\u001b[1;33m(\u001b[0m\u001b[0mindex\u001b[0m\u001b[1;33m,\u001b[0m \u001b[0mobject\u001b[0m\u001b[1;33m,\u001b[0m \u001b[1;33m/\u001b[0m\u001b[1;33m)\u001b[0m\u001b[1;33m\u001b[0m\u001b[1;33m\u001b[0m\u001b[0m\n",
      "\u001b[1;31mDocstring:\u001b[0m Insert object before index.\n",
      "\u001b[1;31mType:\u001b[0m      builtin_function_or_method"
     ]
    }
   ],
   "source": [
    "books.insert?\n"
   ]
  },
  {
   "cell_type": "code",
   "execution_count": 18,
   "metadata": {},
   "outputs": [
    {
     "name": "stdout",
     "output_type": "stream",
     "text": [
      "['othello', 'i dont love you anymors', 'harry potter', 'warmth', 'the girl', 'end', 'maths', 'physics', 'history', 'love', 'hate', 'Julius Caeser', ['Julius Caeser', 'dark']]\n"
     ]
    }
   ],
   "source": [
    "books.insert(2,'harry potter')\n",
    "print(books)"
   ]
  },
  {
   "cell_type": "code",
   "execution_count": 20,
   "metadata": {},
   "outputs": [
    {
     "name": "stdout",
     "output_type": "stream",
     "text": [
      "['othello', 'i dont love you anymors', 'harry potter', 'warmth', 'the girl', 'end', 'maths', 'physics', 'Pinnochio', 'love', 'hate', 'Julius Caeser', ['Julius Caeser', 'dark']]\n"
     ]
    }
   ],
   "source": [
    "books[8]='Pinnochio'# replace\n",
    "print(books)"
   ]
  },
  {
   "cell_type": "code",
   "execution_count": 21,
   "metadata": {},
   "outputs": [
    {
     "name": "stdout",
     "output_type": "stream",
     "text": [
      "['othello', 'i dont love you anymors', 'harry potter', 'warmth', 'the girl', 'maths', 'physics', 'Pinnochio', 'love', 'hate', 'Julius Caeser', ['Julius Caeser', 'dark']]\n"
     ]
    }
   ],
   "source": [
    "books.remove('end')#remove by value\n",
    "print(books)"
   ]
  },
  {
   "cell_type": "code",
   "execution_count": 23,
   "metadata": {},
   "outputs": [
    {
     "name": "stdout",
     "output_type": "stream",
     "text": [
      "['othello', 'i dont love you anymors', 'harry potter', 'warmth', 'physics', 'Pinnochio', 'love', 'hate', 'Julius Caeser', ['Julius Caeser', 'dark']]\n"
     ]
    }
   ],
   "source": [
    "books.pop(4)#remove by index\n",
    "print(books)\n"
   ]
  },
  {
   "cell_type": "code",
   "execution_count": null,
   "metadata": {},
   "outputs": [],
   "source": [
    "books.pop()#removes last element"
   ]
  },
  {
   "cell_type": "code",
   "execution_count": 25,
   "metadata": {},
   "outputs": [
    {
     "name": "stdout",
     "output_type": "stream",
     "text": [
      "[]\n"
     ]
    }
   ],
   "source": [
    "hated_books.clear()\n",
    "print(hated_books)"
   ]
  },
  {
   "cell_type": "markdown",
   "metadata": {},
   "source": [
    "# wap to create an empty list,then fill the list with 10 prime numbers using a loop , starting with 2"
   ]
  },
  {
   "cell_type": "code",
   "execution_count": 1,
   "metadata": {},
   "outputs": [
    {
     "data": {
      "text/plain": [
       "[22, 9, 8, 23, 56, 34, 35, 6, 5, 4]"
      ]
     },
     "execution_count": 1,
     "metadata": {},
     "output_type": "execute_result"
    }
   ],
   "source": [
    "numbers=[4,5,6,35,34,56,23,8,9,22]\n",
    "#reverse\n",
    "numbers[::-1]"
   ]
  },
  {
   "cell_type": "code",
   "execution_count": 2,
   "metadata": {},
   "outputs": [],
   "source": [
    "numbers.reverse()#changes the original list"
   ]
  },
  {
   "cell_type": "code",
   "execution_count": 3,
   "metadata": {},
   "outputs": [
    {
     "name": "stdout",
     "output_type": "stream",
     "text": [
      "[22, 9, 8, 23, 56, 34, 35, 6, 5, 4]\n"
     ]
    }
   ],
   "source": [
    "print(numbers)"
   ]
  },
  {
   "cell_type": "code",
   "execution_count": 6,
   "metadata": {},
   "outputs": [
    {
     "name": "stdout",
     "output_type": "stream",
     "text": [
      "[4, 5, 6, 8, 9, 22, 23, 34, 35, 56]\n",
      "[56, 35, 34, 23, 22, 9, 8, 6, 5, 4]\n"
     ]
    }
   ],
   "source": [
    "numbers.sort()#ascending order,changes the original list\n",
    "print(numbers)\n",
    "numbers.sort(reverse=True)#descending order\n",
    "print(numbers)"
   ]
  },
  {
   "cell_type": "code",
   "execution_count": 7,
   "metadata": {},
   "outputs": [
    {
     "name": "stdout",
     "output_type": "stream",
     "text": [
      "[[1, 12], [2, 5], [4, 15], [5, 10]]\n"
     ]
    }
   ],
   "source": [
    "x=[[1,12],[2,5],[5,10],[4,15]]\n",
    "x.sort()#sort by first element of each sublist\n",
    "print(x)"
   ]
  },
  {
   "cell_type": "code",
   "execution_count": 11,
   "metadata": {},
   "outputs": [
    {
     "name": "stdout",
     "output_type": "stream",
     "text": [
      "[[2, 5], [5, 10], [1, 12], [4, 15]]\n"
     ]
    }
   ],
   "source": [
    "x.sort(key=lambda e:e[1])\n",
    "print(x)"
   ]
  },
  {
   "cell_type": "code",
   "execution_count": 12,
   "metadata": {},
   "outputs": [
    {
     "name": "stdout",
     "output_type": "stream",
     "text": [
      "[[2, 5], [1, 12], [5, 10], [4, 15]]\n"
     ]
    }
   ],
   "source": [
    "x.sort(key=lambda i:sum(i))\n",
    "print(x)"
   ]
  },
  {
   "cell_type": "code",
   "execution_count": 17,
   "metadata": {},
   "outputs": [
    {
     "name": "stdout",
     "output_type": "stream",
     "text": [
      "[('Bob', 19), ('Alice', 25), ('Alex', 35)]\n"
     ]
    }
   ],
   "source": [
    "users=[('Alice',25),('Bob',19),('Alex',35)]\n",
    "users.sort(key=lambda e:e[1])\n",
    "print(users)\n"
   ]
  },
  {
   "cell_type": "code",
   "execution_count": 15,
   "metadata": {},
   "outputs": [
    {
     "name": "stdout",
     "output_type": "stream",
     "text": [
      "[['laptop', 60000, 1], ['mobile', 25000, 2], ['headphone', 1500, 2], ['watch', 3000, 3]]\n"
     ]
    }
   ],
   "source": [
    "cart=[\n",
    "    ['mobile',25000,2],\n",
    "    ['laptop',60000,1],\n",
    "    ['watch',3000,3],\n",
    "    ['headphone',1500,2]\n",
    "    ]\n",
    "cart.sort(key=lambda e:e[2])\n",
    "print(cart)\n"
   ]
  },
  {
   "cell_type": "code",
   "execution_count": 19,
   "metadata": {},
   "outputs": [
    {
     "name": "stdout",
     "output_type": "stream",
     "text": [
      "1 occurs: 4\n",
      "5 occurs: 6\n"
     ]
    }
   ],
   "source": [
    "a=[1,2,3,4,1,1,1,2,5,4,4,3,4,3,5,5,5,5,5]\n",
    "print('1 occurs:',a.count(1))\n",
    "print('5 occurs:',a.count(5))"
   ]
  },
  {
   "cell_type": "code",
   "execution_count": 21,
   "metadata": {},
   "outputs": [
    {
     "data": {
      "text/plain": [
       "4"
      ]
     },
     "execution_count": 21,
     "metadata": {},
     "output_type": "execute_result"
    }
   ],
   "source": [
    "numbers.index(22)# gives index of 12(first occurance)"
   ]
  },
  {
   "cell_type": "code",
   "execution_count": 24,
   "metadata": {},
   "outputs": [
    {
     "name": "stdout",
     "output_type": "stream",
     "text": [
      "[1, 2, 3, 4, 5]\n",
      "[1, 2, 3, 4, 5]\n",
      "[1, 2, 3, 4, 5]\n",
      "[1, 2, 3, 4, 5, 6, 20]\n",
      "[1, 2, 3, 4, 5, 10]\n",
      "[1, 2, 3, 4, 5, 6, 20]\n"
     ]
    }
   ],
   "source": [
    "a=[1,2,3,4,5]\n",
    "b=a.copy()#shallow copy\n",
    "c=a #reference copy\n",
    "print(a)\n",
    "print(b)\n",
    "print(c)\n",
    "a.append(6)\n",
    "b.append(10)\n",
    "c.append(20)\n",
    "print(a)\n",
    "print(b)\n",
    "print(c)"
   ]
  },
  {
   "cell_type": "markdown",
   "metadata": {},
   "source": [
    "## comprehension"
   ]
  },
  {
   "cell_type": "code",
   "execution_count": 25,
   "metadata": {},
   "outputs": [
    {
     "name": "stdout",
     "output_type": "stream",
     "text": [
      "[1, 2, 3, 4, 5]\n",
      "[1, 8, 27, 64, 125]\n",
      "[-4, -3, -2, -1, 0]\n"
     ]
    }
   ],
   "source": [
    "a=[1,2,3,4,5]\n",
    "a3=[i**3 for i in a]\n",
    "print(a)\n",
    "print(a3)\n",
    "a5=[i-5 for i in a]\n",
    "print(a5)"
   ]
  },
  {
   "cell_type": "code",
   "execution_count": 26,
   "metadata": {},
   "outputs": [
    {
     "name": "stdout",
     "output_type": "stream",
     "text": [
      "[4, 16]\n"
     ]
    }
   ],
   "source": [
    "a2=[i**2 for i in a if i%2==0]#pythonic\n",
    "print(a2)"
   ]
  },
  {
   "cell_type": "code",
   "execution_count": 43,
   "metadata": {},
   "outputs": [
    {
     "name": "stdout",
     "output_type": "stream",
     "text": [
      "['AS', 'BB', 'CG', 'DW']\n",
      "['AS', 'BB', 'CG', 'DW']\n"
     ]
    }
   ],
   "source": [
    "names=['Alice Smith','Bob Brown','Charlie Green','David steele White']\n",
    "initial=[]\n",
    "for n in names:\n",
    "    parts=n.split()\n",
    "    initial.append(f'{parts[0][0]}{parts[-1][0]}')\n",
    "print(initial)\n",
    "#comprehension\n",
    "initial=[f'{n.split()[0][0]}{n.split()[-1][0]}' for n in names]\n",
    "print(initial)"
   ]
  },
  {
   "cell_type": "code",
   "execution_count": null,
   "metadata": {},
   "outputs": [],
   "source": []
  }
 ],
 "metadata": {
  "kernelspec": {
   "display_name": "base",
   "language": "python",
   "name": "python3"
  },
  "language_info": {
   "codemirror_mode": {
    "name": "ipython",
    "version": 3
   },
   "file_extension": ".py",
   "mimetype": "text/x-python",
   "name": "python",
   "nbconvert_exporter": "python",
   "pygments_lexer": "ipython3",
   "version": "3.12.3"
  }
 },
 "nbformat": 4,
 "nbformat_minor": 2
}
