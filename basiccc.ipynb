{
 "cells": [
  {
   "cell_type": "code",
   "execution_count": 8,
   "metadata": {},
   "outputs": [
    {
     "name": "stdout",
     "output_type": "stream",
     "text": [
      "100\n"
     ]
    }
   ],
   "source": [
    "a=10\n",
    "b=90\n",
    "c=a+b \n",
    "print(c)"
   ]
  },
  {
   "cell_type": "code",
   "execution_count": 14,
   "metadata": {},
   "outputs": [
    {
     "ename": "IndentationError",
     "evalue": "unindent does not match any outer indentation level (<tokenize>, line 7)",
     "output_type": "error",
     "traceback": [
      "\u001b[1;36m  File \u001b[1;32m<tokenize>:7\u001b[1;36m\u001b[0m\n\u001b[1;33m    print(i)\u001b[0m\n\u001b[1;37m    ^\u001b[0m\n\u001b[1;31mIndentationError\u001b[0m\u001b[1;31m:\u001b[0m unindent does not match any outer indentation level\n"
     ]
    }
   ],
   "source": [
    "data=[1,,2,3,4,5,6,7,8,9,10]\n",
    "stop_val = int(input('enter the number to stop it '))\n",
    "counter =0\n",
    "for i in data:\n",
    "  if stop_val == 1\n",
    "         break\n",
    "    print(i)\n",
    "    counter += 1\n",
    "  print(f'count :{counter} ')\n",
    "  if counter == len(data):\n",
    "      \n"
   ]
  },
  {
   "cell_type": "code",
   "execution_count": 10,
   "metadata": {},
   "outputs": [
    {
     "name": "stdout",
     "output_type": "stream",
     "text": [
      "0\n",
      "1\n"
     ]
    }
   ],
   "source": [
    "# sum of all digits 12345 => 1=2+3+4+5=15\n",
    "num = int(input(\"Enter a number:\"))\n",
    "total =0\n",
    "while num > 0:\n",
    "    total+=num % 10\n",
    "    num = num // 10\n",
    "    print(total)"
   ]
  },
  {
   "cell_type": "code",
   "execution_count": null,
   "metadata": {},
   "outputs": [],
   "source": []
  },
  {
   "cell_type": "code",
   "execution_count": 9,
   "metadata": {},
   "outputs": [
    {
     "name": "stdout",
     "output_type": "stream",
     "text": [
      "5\n",
      "9\n",
      "12\n",
      "14\n",
      "15\n"
     ]
    }
   ],
   "source": [
    "# sum of all digits 12345 => 1=2+3+4+5=15\n",
    "num = int(input(\"Enter a number:\"))\n",
    "total =0\n",
    "while num > 0:\n",
    "    total+=num % 10\n",
    "    num = num // 10\n",
    "    print(total)"
   ]
  },
  {
   "cell_type": "code",
   "execution_count": 3,
   "metadata": {},
   "outputs": [
    {
     "data": {
      "text/plain": [
       "'destination'"
      ]
     },
     "execution_count": 3,
     "metadata": {},
     "output_type": "execute_result"
    }
   ],
   "source": [
    "msg = \"journey before destination\"\n",
    "msg[-11:]"
   ]
  },
  {
   "cell_type": "code",
   "execution_count": 4,
   "metadata": {},
   "outputs": [
    {
     "data": {
      "text/plain": [
       "' a time'"
      ]
     },
     "execution_count": 4,
     "metadata": {},
     "output_type": "execute_result"
    }
   ],
   "source": [
    "msg =\"once upon a time\"\n",
    "msg[-7:]\n"
   ]
  },
  {
   "cell_type": "code",
   "execution_count": 6,
   "metadata": {},
   "outputs": [
    {
     "name": "stdout",
     "output_type": "stream",
     "text": [
      "80999\n"
     ]
    }
   ],
   "source": [
    "amt = '$80999'\n",
    "amt=int(amt[1:])\n",
    "print(amt)"
   ]
  },
  {
   "cell_type": "code",
   "execution_count": 8,
   "metadata": {},
   "outputs": [
    {
     "data": {
      "text/plain": [
       "'oc pnatm'"
      ]
     },
     "execution_count": 8,
     "metadata": {},
     "output_type": "execute_result"
    }
   ],
   "source": [
    "msg[::2] # every second character (even index)"
   ]
  },
  {
   "cell_type": "code",
   "execution_count": 12,
   "metadata": {},
   "outputs": [
    {
     "data": {
      "text/plain": [
       "'neuo  ie'"
      ]
     },
     "execution_count": 12,
     "metadata": {},
     "output_type": "execute_result"
    }
   ],
   "source": [
    "msg[1::2] # every 2nd character (odd index)"
   ]
  },
  {
   "cell_type": "code",
   "execution_count": 13,
   "metadata": {},
   "outputs": [
    {
     "data": {
      "text/plain": [
       "'emit a nopu ecno'"
      ]
     },
     "execution_count": 13,
     "metadata": {},
     "output_type": "execute_result"
    }
   ],
   "source": [
    "# most OP thing on slicing \n",
    "msg[::-1] # reserve the string "
   ]
  },
  {
   "cell_type": "code",
   "execution_count": 14,
   "metadata": {},
   "outputs": [
    {
     "data": {
      "text/plain": [
       "'emit '"
      ]
     },
     "execution_count": 14,
     "metadata": {},
     "output_type": "execute_result"
    }
   ],
   "source": [
    "msg[::-1][:5]"
   ]
  },
  {
   "cell_type": "markdown",
   "metadata": {},
   "source": [
    "## string methods\n",
    "- formating \n",
    "- validation \n",
    "- find & replace\n",
    "- etc."
   ]
  },
  {
   "cell_type": "code",
   "execution_count": 31,
   "metadata": {},
   "outputs": [
    {
     "name": "stdout",
     "output_type": "stream",
     "text": [
      "All the glitter is not Gold\n",
      "ALL THE GLITTER IS NOT GOLD\n",
      "all the glitter is not gold\n",
      "All the glitter is not gold\n",
      "all the glitter is not gold\n",
      "_______________________All the glitter is not Gold\n",
      "***********All the glitter is not Gold************\n"
     ]
    }
   ],
   "source": [
    "quote = \"All the glitter is not Gold\"\n",
    "quote_upper = quote.upper()\n",
    "print(quote)\n",
    "print(quote_upper)\n",
    "quote_lower = quote.lower()\n",
    "print(quote_lower)\n",
    "quote_captalize =quote.capitalize()\n",
    "print(quote_captalize)\n",
    "quote_casefold=quote.casefold()\n",
    "print(quote_casefold)\n",
    "quote_rjust = quote.rjust(50,'_')\n",
    "print(quote_rjust)\n",
    "quote_center = quote.center(50,'*')\n",
    "print(quote_center)"
   ]
  },
  {
   "cell_type": "code",
   "execution_count": 32,
   "metadata": {},
   "outputs": [
    {
     "name": "stdout",
     "output_type": "stream",
     "text": [
      "valid name,very good\n"
     ]
    }
   ],
   "source": [
    "fname = input(\"enter the name (do not use number)\")\n",
    "if fname.isalpha():\n",
    "    print(\"valid name,very good\")\n",
    "else:\n",
    "    print(\"what kind if name is this\")"
   ]
  },
  {
   "cell_type": "code",
   "execution_count": 34,
   "metadata": {},
   "outputs": [
    {
     "data": {
      "text/plain": [
       "-1"
      ]
     },
     "execution_count": 34,
     "metadata": {},
     "output_type": "execute_result"
    }
   ],
   "source": [
    "# find and index methods for searching in string \n",
    "msg.find('place') # return the index of the first occurence of the substring \n"
   ]
  },
  {
   "cell_type": "code",
   "execution_count": 41,
   "metadata": {},
   "outputs": [
    {
     "name": "stdout",
     "output_type": "stream",
     "text": [
      "12\n",
      "39\n",
      "-1\n",
      "79\n"
     ]
    }
   ],
   "source": [
    "data =\"\"\"Roshar is a place of magic and wonder,\n",
    "place of knight and kings .git.\n",
    "it is a place of highstrome\"\"\"\n",
    "print(data.find('place'))\n",
    "print(data.find('place',13)) # 13 is starting index for seaching \n",
    "print(data.find('Place')) # -1 means not found \n",
    "# reverse find \n",
    "print(data.rfind('place')) # return the index of the last of occurence of substring "
   ]
  },
  {
   "cell_type": "code",
   "execution_count": 42,
   "metadata": {},
   "outputs": [
    {
     "data": {
      "text/plain": [
       "'Roshar is a world of magic and wonder,\\nworld of knight and kings .git.\\nit is a world of highstrome'"
      ]
     },
     "execution_count": 42,
     "metadata": {},
     "output_type": "execute_result"
    }
   ],
   "source": [
    "# replace methods\n",
    "data.replace('place','world')"
   ]
  },
  {
   "cell_type": "code",
   "execution_count": 43,
   "metadata": {},
   "outputs": [
    {
     "data": {
      "text/plain": [
       "'Rashar is a place af magic and wander,\\nplace af knight and kings .git.\\nit is a place af highstrame'"
      ]
     },
     "execution_count": 43,
     "metadata": {},
     "output_type": "execute_result"
    }
   ],
   "source": [
    "data.replace('o','a')"
   ]
  },
  {
   "cell_type": "code",
   "execution_count": 44,
   "metadata": {},
   "outputs": [
    {
     "data": {
      "text/plain": [
       "'Ristar is a placa if magic and windar,\\nplaca if knigtt and kings .git.\\nit is a placa if tigtstrima'"
      ]
     },
     "execution_count": 44,
     "metadata": {},
     "output_type": "execute_result"
    }
   ],
   "source": [
    "data.replace('e','a').replace('o','i').replace('h','t')"
   ]
  },
  {
   "cell_type": "code",
   "execution_count": 47,
   "metadata": {},
   "outputs": [
    {
     "name": "stdout",
     "output_type": "stream",
     "text": [
      "Roshar_is_a_place of magic and wonder,\n",
      "place of knight and kings .git.\n",
      "it is a place of highstrome\n"
     ]
    }
   ],
   "source": [
    "print(data.replace(' ','_',3))"
   ]
  },
  {
   "cell_type": "markdown",
   "metadata": {},
   "source": [
    "## split function"
   ]
  },
  {
   "cell_type": "code",
   "execution_count": 2,
   "metadata": {},
   "outputs": [
    {
     "name": "stdout",
     "output_type": "stream",
     "text": [
      "19\n",
      "apple mango bnanana\n",
      "['apple', 'mango', 'bnanana']\n"
     ]
    }
   ],
   "source": [
    "fruits = input(\"enter the name of fruits\")\n",
    "print(len(fruits))\n",
    "print(fruits)\n",
    "fruitlist = fruits.split()\n",
    "print(fruitlist)"
   ]
  },
  {
   "cell_type": "code",
   "execution_count": 3,
   "metadata": {},
   "outputs": [
    {
     "data": {
      "text/plain": [
       "['aayush', 'prajapti']"
      ]
     },
     "execution_count": 3,
     "metadata": {},
     "output_type": "execute_result"
    }
   ],
   "source": [
    "'aayush prajapti'.split()"
   ]
  },
  {
   "cell_type": "code",
   "execution_count": 4,
   "metadata": {},
   "outputs": [
    {
     "data": {
      "text/plain": [
       "['this', 'is', 'so', 'boaring']"
      ]
     },
     "execution_count": 4,
     "metadata": {},
     "output_type": "execute_result"
    }
   ],
   "source": [
    "'this is so boaring'.split()"
   ]
  },
  {
   "cell_type": "code",
   "execution_count": 6,
   "metadata": {},
   "outputs": [
    {
     "data": {
      "text/plain": [
       "['life before death ',\n",
       " ' strnght before weakeness',\n",
       " ' journey before destinstion']"
      ]
     },
     "execution_count": 6,
     "metadata": {},
     "output_type": "execute_result"
    }
   ],
   "source": [
    "quote = \"life before death , strnght before weakeness, journey before destinstion\"\n",
    "quote.split(',')"
   ]
  },
  {
   "cell_type": "code",
   "execution_count": 7,
   "metadata": {},
   "outputs": [
    {
     "data": {
      "text/plain": [
       "['life ', ' death , strnght ', ' weakeness, journey ', ' destinstion']"
      ]
     },
     "execution_count": 7,
     "metadata": {},
     "output_type": "execute_result"
    }
   ],
   "source": [
    "quote.split('before')"
   ]
  },
  {
   "cell_type": "code",
   "execution_count": 8,
   "metadata": {},
   "outputs": [
    {
     "data": {
      "text/plain": [
       "['johnny johnny yes papa', 'eating sugar?no papa', 'telling lies?no papa']"
      ]
     },
     "execution_count": 8,
     "metadata": {},
     "output_type": "execute_result"
    }
   ],
   "source": [
    "poem ='''johnny johnny yes papa\n",
    "eating sugar?no papa\n",
    "telling lies?no papa'''\n",
    "poem.splitlines()"
   ]
  },
  {
   "cell_type": "markdown",
   "metadata": {},
   "source": [
    "## join function"
   ]
  },
  {
   "cell_type": "code",
   "execution_count": 10,
   "metadata": {},
   "outputs": [
    {
     "data": {
      "text/plain": [
       "'c:/user/aayush/desktop/file.text'"
      ]
     },
     "execution_count": 10,
     "metadata": {},
     "output_type": "execute_result"
    }
   ],
   "source": [
    "addr  = ['c:','user','aayush','desktop','file.text']\n",
    "\"/\".join(addr)"
   ]
  },
  {
   "cell_type": "code",
   "execution_count": 12,
   "metadata": {},
   "outputs": [
    {
     "name": "stdout",
     "output_type": "stream",
     "text": [
      "['aayush', 'march', '2024']\n",
      "img_aayush_march_2024.jpg\n"
     ]
    }
   ],
   "source": [
    "data = input(\"enter the name , mounth and yeera of birth seperated byy coma :\")\n",
    "word = data.split(',')\n",
    "print(word)\n",
    "name = \"_\".join(word)\n",
    "print(f'img_{name}.jpg')"
   ]
  },
  {
   "cell_type": "markdown",
   "metadata": {},
   "source": [
    "## questions \n"
   ]
  },
  {
   "cell_type": "code",
   "execution_count": 42,
   "metadata": {},
   "outputs": [
    {
     "name": "stdout",
     "output_type": "stream",
     "text": [
      "aayush\n",
      "6\n"
     ]
    }
   ],
   "source": [
    "#question 1,2\n",
    "num = \"aayush\"\n",
    "print(num)\n",
    "print(len(num))"
   ]
  },
  {
   "cell_type": "code",
   "execution_count": 43,
   "metadata": {},
   "outputs": [
    {
     "data": {
      "text/plain": [
       "' great'"
      ]
     },
     "execution_count": 43,
     "metadata": {},
     "output_type": "execute_result"
    }
   ],
   "source": [
    "# question 3\n",
    "data = \"python is great\"\n",
    "data[9:]"
   ]
  },
  {
   "cell_type": "code",
   "execution_count": 30,
   "metadata": {},
   "outputs": [
    {
     "data": {
      "text/plain": [
       "'dlrow olleh'"
      ]
     },
     "execution_count": 30,
     "metadata": {},
     "output_type": "execute_result"
    }
   ],
   "source": [
    "#que 4\n",
    "word = \"hello world\"\n",
    "word[::-1]"
   ]
  },
  {
   "cell_type": "code",
   "execution_count": 37,
   "metadata": {},
   "outputs": [
    {
     "name": "stdout",
     "output_type": "stream",
     "text": [
      "python\n",
      "is\n",
      "everwhere\n"
     ]
    }
   ],
   "source": [
    "#ques 5\n",
    "name = \"python is everwhere\"\n",
    "word= name.split(\" \")\n",
    "print(word[0])\n",
    "print(word[1])\n",
    "print(word[2])"
   ]
  },
  {
   "cell_type": "code",
   "execution_count": 38,
   "metadata": {},
   "outputs": [
    {
     "name": "stdout",
     "output_type": "stream",
     "text": [
      "HOW ARE YOU?\n"
     ]
    }
   ],
   "source": [
    "# ques 6\n",
    "data = \"how are you?\"\n",
    "data_upper = data.upper()\n",
    "print(data_upper)"
   ]
  },
  {
   "cell_type": "code",
   "execution_count": 39,
   "metadata": {},
   "outputs": [
    {
     "name": "stdout",
     "output_type": "stream",
     "text": [
      "how it is going?\n"
     ]
    }
   ],
   "source": [
    "# que 7\n",
    "num = \"HOW IT IS GOING?\"\n",
    "num_lower = num.lower()\n",
    "print(num_lower)"
   ]
  },
  {
   "cell_type": "code",
   "execution_count": 40,
   "metadata": {},
   "outputs": [
    {
     "data": {
      "text/plain": [
       "'python is easy to learn'"
      ]
     },
     "execution_count": 40,
     "metadata": {},
     "output_type": "execute_result"
    }
   ],
   "source": [
    "# que 8\n",
    "words = ['python','is','easy','to','learn']\n",
    "\" \".join(words)"
   ]
  },
  {
   "cell_type": "code",
   "execution_count": 41,
   "metadata": {},
   "outputs": [
    {
     "name": "stdout",
     "output_type": "stream",
     "text": [
      "('10', ' aayush')\n"
     ]
    }
   ],
   "source": [
    "# que 9\n",
    "data = \" aayush\"\n",
    "num =\"10\"\n",
    "words =(num,data)\n",
    "print(words)"
   ]
  },
  {
   "cell_type": "code",
   "execution_count": 45,
   "metadata": {},
   "outputs": [
    {
     "name": "stdout",
     "output_type": "stream",
     "text": [
      "move to new line '\n",
      "' is used\n",
      "move to new line '\\n' is used\n"
     ]
    }
   ],
   "source": [
    "# que 10\n",
    "print(\"move to new line '\\n' is used\")\n",
    "print(\"move to new line '\\\\n' is used\")"
   ]
  },
  {
   "cell_type": "markdown",
   "metadata": {},
   "source": [
    "### count methods"
   ]
  },
  {
   "cell_type": "code",
   "execution_count": 47,
   "metadata": {},
   "outputs": [
    {
     "name": "stdout",
     "output_type": "stream",
     "text": [
      "before occurs 3 time in quotes\n"
     ]
    }
   ],
   "source": [
    "quote = \"life before death , strnght before weakeness, journey before destinstion\"\n",
    "n = quote.count('before')\n",
    "print(f'before occurs {n} time in quotes')"
   ]
  },
  {
   "cell_type": "code",
   "execution_count": 49,
   "metadata": {},
   "outputs": [
    {
     "data": {
      "text/plain": [
       "13"
      ]
     },
     "execution_count": 49,
     "metadata": {},
     "output_type": "execute_result"
    }
   ],
   "source": [
    "quote.count('e')"
   ]
  },
  {
   "cell_type": "markdown",
   "metadata": {},
   "source": [
    "## start with , end with"
   ]
  },
  {
   "cell_type": "code",
   "execution_count": 51,
   "metadata": {},
   "outputs": [
    {
     "data": {
      "text/plain": [
       "True"
      ]
     },
     "execution_count": 51,
     "metadata": {},
     "output_type": "execute_result"
    }
   ],
   "source": [
    "'Mr bean'.startswith('Mr')"
   ]
  },
  {
   "cell_type": "code",
   "execution_count": 53,
   "metadata": {},
   "outputs": [
    {
     "name": "stdout",
     "output_type": "stream",
     "text": [
      "something wrong\n"
     ]
    }
   ],
   "source": [
    "name = input('enter the name')\n",
    "if name.startswith('Mr'):\n",
    "    print(\"hello sir\")\n",
    "else:\n",
    "    print('something wrong')"
   ]
  },
  {
   "cell_type": "code",
   "execution_count": null,
   "metadata": {},
   "outputs": [],
   "source": [
    "filename = input('enter the file name')\n",
    "print(f\"filenmane:{filename}\")\n",
    "if filename.endswith('csv')\n",
    "   print(\"dataset file\")\n",
    "elif filename.endswith('txt')\n",
    "    print(\"format file\")\n",
    "else:\n",
    "    print(\"file donot exit\")\n"
   ]
  },
  {
   "cell_type": "code",
   "execution_count": 1,
   "metadata": {},
   "outputs": [
    {
     "name": "stdout",
     "output_type": "stream",
     "text": [
      "    ....munjhya\n",
      "....munjhya\n"
     ]
    }
   ],
   "source": [
    "#strip\n",
    "movie = input('enter the movie name:')\n",
    "clean_movie = movie.strip()\n",
    "print(movie)\n",
    "print(clean_movie)\n"
   ]
  },
  {
   "cell_type": "code",
   "execution_count": 59,
   "metadata": {},
   "outputs": [
    {
     "name": "stdout",
     "output_type": "stream",
     "text": [
      "hello\n"
     ]
    }
   ],
   "source": [
    "print('\\n\\n\\nhello\\n\\n\\n'.strip())"
   ]
  },
  {
   "cell_type": "code",
   "execution_count": 60,
   "metadata": {},
   "outputs": [
    {
     "name": "stdout",
     "output_type": "stream",
     "text": [
      "hello\n"
     ]
    }
   ],
   "source": [
    "print(',,,,,,,hello*****'.strip(',*')) # remove all comas and star"
   ]
  },
  {
   "cell_type": "code",
   "execution_count": 4,
   "metadata": {},
   "outputs": [
    {
     "name": "stdout",
     "output_type": "stream",
     "text": [
      "!\"#$%&'()*+,-./:;<=>?@[\\]^_`{|}~\n",
      "*/%$@&*34*_*t78hbyu#&**%404\n",
      "*/%$@&*34*_*t78hbyu#&**%404\n",
      "*/%$@&*34*_*t78hbyu&**%404\n",
      "*/%@&*34*_*t78hbyu&**%404\n",
      "*/@&*34*_*t78hbyu&**404\n",
      "*/@*34*_*t78hbyu**404\n",
      "*/@*34*_*t78hbyu**404\n",
      "*/@*34*_*t78hbyu**404\n",
      "*/@*34*_*t78hbyu**404\n",
      "/@34_t78hbyu404\n",
      "/@34_t78hbyu404\n",
      "/@34_t78hbyu404\n",
      "/@34_t78hbyu404\n",
      "/@34_t78hbyu404\n",
      "@34_t78hbyu404\n",
      "@34_t78hbyu404\n",
      "@34_t78hbyu404\n",
      "@34_t78hbyu404\n",
      "@34_t78hbyu404\n",
      "@34_t78hbyu404\n",
      "@34_t78hbyu404\n",
      "34_t78hbyu404\n",
      "34_t78hbyu404\n",
      "34_t78hbyu404\n",
      "34_t78hbyu404\n",
      "34_t78hbyu404\n",
      "34t78hbyu404\n",
      "34t78hbyu404\n",
      "34t78hbyu404\n",
      "34t78hbyu404\n",
      "34t78hbyu404\n",
      "34t78hbyu404\n",
      "34t78hbyu44\n",
      "34t78hbyu44\n",
      "34t78hbyu44\n",
      "4t78hbyu44\n",
      "t78hbyu\n",
      "t78hbyu\n",
      "t78hbyu\n",
      "t8hbyu\n",
      "thbyu\n",
      "thbyu\n"
     ]
    }
   ],
   "source": [
    "from string import punctuation\n",
    "print(punctuation)\n",
    "text = '*/%$@&*34!*_*!t78hbyu#&**%404'\n",
    "for i in punctuation+'0123456789':\n",
    "    text = text.replace(i,\"\")\n",
    "    print(text)\n"
   ]
  },
  {
   "cell_type": "code",
   "execution_count": 5,
   "metadata": {},
   "outputs": [
    {
     "name": "stdout",
     "output_type": "stream",
     "text": [
      "hello\n"
     ]
    }
   ],
   "source": [
    "a = \"hello\"\n",
    "a= a.replace('1','')\n",
    "print(a)"
   ]
  },
  {
   "cell_type": "code",
   "execution_count": 12,
   "metadata": {},
   "outputs": [
    {
     "name": "stdout",
     "output_type": "stream",
     "text": [
      "0.18181818181818182\n",
      "0.2727272727272727\n",
      "0.3181818181818182\n",
      "0.7272727272727273\n",
      "0.9545454545454546\n",
      "1.0454545454545454\n",
      "1.3636363636363635\n",
      "1.5454545454545454\n",
      "1.6818181818181819\n",
      "1.8181818181818181\n",
      "2.1363636363636362\n",
      "2.227272727272727\n",
      "2.6363636363636362\n",
      "2.9545454545454546\n",
      "3.0454545454545454\n",
      "3.1818181818181817\n",
      "3.3181818181818183\n",
      "3.6363636363636362\n",
      "3.8181818181818183\n",
      "4.090909090909091\n",
      "4.181818181818182\n",
      "4.636363636363637\n"
     ]
    }
   ],
   "source": [
    "sentence = 'this is a paragraph which is written just for the purpose of providing content to let the average word length be calculated'\n",
    "total = 0\n",
    "for word in sentence.split():\n",
    "  total += len(word)\n",
    "  print(total/len(sentence.split()))\n"
   ]
  },
  {
   "cell_type": "markdown",
   "metadata": {},
   "source": []
  },
  {
   "cell_type": "code",
   "execution_count": null,
   "metadata": {},
   "outputs": [],
   "source": []
  }
 ],
 "metadata": {
  "kernelspec": {
   "display_name": "Python 3",
   "language": "python",
   "name": "python3"
  },
  "language_info": {
   "codemirror_mode": {
    "name": "ipython",
    "version": 3
   },
   "file_extension": ".py",
   "mimetype": "text/x-python",
   "name": "python",
   "nbconvert_exporter": "python",
   "pygments_lexer": "ipython3",
   "version": "3.11.9"
  }
 },
 "nbformat": 4,
 "nbformat_minor": 2
}
