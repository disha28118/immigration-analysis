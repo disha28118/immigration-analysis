{
 "cells": [
  {
   "cell_type": "code",
   "execution_count": 2,
   "metadata": {},
   "outputs": [],
   "source": [
    "a = 'apple'\n",
    "b = 'apple'\n",
    "c = '''this is\n",
    "very \n",
    "useful in\n",
    "multiline\n",
    "'''"
   ]
  },
  {
   "cell_type": "code",
   "execution_count": 3,
   "metadata": {},
   "outputs": [
    {
     "name": "stdout",
     "output_type": "stream",
     "text": [
      "apple is a fruit\n",
      "c:\\users\\disha\\desktop\n",
      "hello\n",
      "b'hello'\n"
     ]
    }
   ],
   "source": [
    "#types of strings\n",
    "# f-string\n",
    "x= f'{a} is a fruit'\n",
    "print(x)\n",
    "#raw string\n",
    "addr = r'c:\\users\\disha\\desktop'\n",
    "print(addr)\n",
    "#unicode string\n",
    "uni = u'hello'\n",
    "print(uni)\n",
    "#byte string\n",
    "byt = b'hello'\n",
    "print(byt)\n"
   ]
  },
  {
   "cell_type": "code",
   "execution_count": 6,
   "metadata": {},
   "outputs": [
    {
     "name": "stdout",
     "output_type": "stream",
     "text": [
      "e\n",
      "n\n",
      "c\n",
      "a\n",
      "a\n",
      "sixth last o\n"
     ]
    }
   ],
   "source": [
    "v = 'encyclopedia'\n",
    "print(v[0]) #first index\n",
    "print(v[1]) #second index\n",
    "print(v[2]) #third index\n",
    "print(v[11]) #last index\n",
    "print(v[-1]) #last index\n",
    "print('sixth last',v[-6])"
   ]
  },
  {
   "cell_type": "code",
   "execution_count": 5,
   "metadata": {},
   "outputs": [
    {
     "data": {
      "text/plain": [
       "'Once upon a time'"
      ]
     },
     "execution_count": 5,
     "metadata": {},
     "output_type": "execute_result"
    }
   ],
   "source": [
    "msg = 'Once upon a time,there was a place called eternia'\n",
    "msg[-7:]\n",
    "msg[:16]"
   ]
  },
  {
   "cell_type": "code",
   "execution_count": 8,
   "metadata": {},
   "outputs": [
    {
     "name": "stdout",
     "output_type": "stream",
     "text": [
      "800999\n"
     ]
    }
   ],
   "source": [
    "amt = '$800999'\n",
    "amt=int(amt[1:])\n",
    "print(amt)"
   ]
  },
  {
   "cell_type": "code",
   "execution_count": 9,
   "metadata": {},
   "outputs": [
    {
     "data": {
      "text/plain": [
       "'Oc pnatm,hr a  lc aldeena'"
      ]
     },
     "execution_count": 9,
     "metadata": {},
     "output_type": "execute_result"
    }
   ],
   "source": [
    "msg[::2]#even index every second letter"
   ]
  },
  {
   "cell_type": "code",
   "execution_count": 14,
   "metadata": {},
   "outputs": [
    {
     "data": {
      "text/plain": [
       "'neuo  ieteewsapaecle tri'"
      ]
     },
     "execution_count": 14,
     "metadata": {},
     "output_type": "execute_result"
    }
   ],
   "source": [
    "msg[1::2]#odd index every second letter"
   ]
  },
  {
   "cell_type": "code",
   "execution_count": 15,
   "metadata": {},
   "outputs": [
    {
     "data": {
      "text/plain": [
       "'ainrete dellac ecalp a saw ereht,emit a nopu ecnO'"
      ]
     },
     "execution_count": 15,
     "metadata": {},
     "output_type": "execute_result"
    }
   ],
   "source": [
    "# most OP thing in slicing\n",
    "msg[::-1]# reverse the string"
   ]
  },
  {
   "cell_type": "code",
   "execution_count": 18,
   "metadata": {},
   "outputs": [
    {
     "data": {
      "text/plain": [
       "'ainrete'"
      ]
     },
     "execution_count": 18,
     "metadata": {},
     "output_type": "execute_result"
    }
   ],
   "source": [
    "msg[::-1][:7]"
   ]
  },
  {
   "cell_type": "code",
   "execution_count": 20,
   "metadata": {},
   "outputs": [
    {
     "name": "stdout",
     "output_type": "stream",
     "text": [
      "vijay deenanath chauhan\n"
     ]
    }
   ],
   "source": [
    "name= 'vijay deenanath chauhan'\n",
    "print(name)"
   ]
  },
  {
   "cell_type": "code",
   "execution_count": 21,
   "metadata": {},
   "outputs": [
    {
     "data": {
      "text/plain": [
       "'htananeed'"
      ]
     },
     "execution_count": 21,
     "metadata": {},
     "output_type": "execute_result"
    }
   ],
   "source": [
    "name[6:15][::-1]"
   ]
  },
  {
   "cell_type": "markdown",
   "metadata": {},
   "source": [
    "string methods\n",
    "- formatting\n",
    "- validation\n",
    "- find & replace\n",
    "- etc."
   ]
  },
  {
   "cell_type": "code",
   "execution_count": 29,
   "metadata": {},
   "outputs": [
    {
     "name": "stdout",
     "output_type": "stream",
     "text": [
      "All the glitter is not Gold\n",
      "ALL THE GLITTER IS NOT GOLD\n",
      "all the glitter is not gold\n",
      "All the glitter is not gold\n",
      "all the glitter is not gold\n",
      "All The Glitter Is Not Gold\n"
     ]
    }
   ],
   "source": [
    "quote = \"All the glitter is not Gold\"\n",
    "quote_upper = quote.upper()\n",
    "print(quote)\n",
    "print(quote_upper)\n",
    "quote_lower = quote.lower()\n",
    "print(quote_lower)\n",
    "quote_capitalize = quote.capitalize()\n",
    "print(quote_capitalize)\n",
    "quote_casefold = quote.casefold()\n",
    "print(quote_casefold)\n",
    "quote_title=quote.title()\n",
    "print(quote_title)\n"
   ]
  },
  {
   "cell_type": "code",
   "execution_count": 31,
   "metadata": {},
   "outputs": [
    {
     "name": "stdout",
     "output_type": "stream",
     "text": [
      "\u001b[1;31mSignature:\u001b[0m \u001b[0mquote\u001b[0m\u001b[1;33m.\u001b[0m\u001b[0mrjust\u001b[0m\u001b[1;33m(\u001b[0m\u001b[0mwidth\u001b[0m\u001b[1;33m,\u001b[0m \u001b[0mfillchar\u001b[0m\u001b[1;33m=\u001b[0m\u001b[1;34m' '\u001b[0m\u001b[1;33m,\u001b[0m \u001b[1;33m/\u001b[0m\u001b[1;33m)\u001b[0m\u001b[1;33m\u001b[0m\u001b[1;33m\u001b[0m\u001b[0m\n",
      "\u001b[1;31mDocstring:\u001b[0m\n",
      "Return a right-justified string of length width.\n",
      "\n",
      "Padding is done using the specified fill character (default is a space).\n",
      "\u001b[1;31mType:\u001b[0m      builtin_function_or_method"
     ]
    }
   ],
   "source": [
    "quote.rjust?"
   ]
  },
  {
   "cell_type": "code",
   "execution_count": 35,
   "metadata": {},
   "outputs": [
    {
     "data": {
      "text/plain": [
       "'+++++++++++++++++++++++All the glitter is not Gold'"
      ]
     },
     "execution_count": 35,
     "metadata": {},
     "output_type": "execute_result"
    }
   ],
   "source": [
    "quote.rjust(50,'+')"
   ]
  },
  {
   "cell_type": "code",
   "execution_count": 36,
   "metadata": {},
   "outputs": [
    {
     "data": {
      "text/plain": [
       "'***********All the glitter is not Gold************'"
      ]
     },
     "execution_count": 36,
     "metadata": {},
     "output_type": "execute_result"
    }
   ],
   "source": [
    "quote.center(50,'*')"
   ]
  },
  {
   "cell_type": "code",
   "execution_count": 37,
   "metadata": {},
   "outputs": [
    {
     "data": {
      "text/plain": [
       "False"
      ]
     },
     "execution_count": 37,
     "metadata": {},
     "output_type": "execute_result"
    }
   ],
   "source": [
    "name.isnumeric()"
   ]
  },
  {
   "cell_type": "code",
   "execution_count": 38,
   "metadata": {},
   "outputs": [
    {
     "name": "stdout",
     "output_type": "stream",
     "text": [
      "valid name,very good\n"
     ]
    }
   ],
   "source": [
    "fname=input('enter your name:')\n",
    "if fname.isalpha():\n",
    "    print(\"valid name,very good\")\n",
    "else:\n",
    "    print(\"what kind of name is this:\")"
   ]
  },
  {
   "cell_type": "code",
   "execution_count": 40,
   "metadata": {},
   "outputs": [
    {
     "data": {
      "text/plain": [
       "29"
      ]
     },
     "execution_count": 40,
     "metadata": {},
     "output_type": "execute_result"
    }
   ],
   "source": [
    "#find and index are methods for searching in strings\n",
    "msg.find('place')# returns the index of first occurence of the substring"
   ]
  },
  {
   "cell_type": "code",
   "execution_count": 44,
   "metadata": {},
   "outputs": [
    {
     "name": "stdout",
     "output_type": "stream",
     "text": [
      "6\n",
      "73\n",
      "-1\n",
      "6\n",
      "73\n"
     ]
    }
   ],
   "source": [
    "data='''Every place has its own magic\n",
    "and own aura.\n",
    "It is very magical for every place'''\n",
    "print(data.find('place'))\n",
    "print(data.find('place',13))#13 is the string index for searching\n",
    "print(data.find('Place'))#-1 means not found\n",
    "print(data.lower().find('place'))\n",
    "#reverse find\n",
    "print(data.rfind('place'))#returns the index of last occurence of substring\n"
   ]
  },
  {
   "cell_type": "code",
   "execution_count": 45,
   "metadata": {},
   "outputs": [
    {
     "data": {
      "text/plain": [
       "'Every world has its own magic\\nand own aura.\\nIt is very magical for every world'"
      ]
     },
     "execution_count": 45,
     "metadata": {},
     "output_type": "execute_result"
    }
   ],
   "source": [
    "# replace method\n",
    "data.replace('place','world')"
   ]
  },
  {
   "cell_type": "code",
   "execution_count": 47,
   "metadata": {},
   "outputs": [
    {
     "data": {
      "text/plain": [
       "'Evary placa has its own magic\\nand own aura.\\nIt is vary magical for avary placa'"
      ]
     },
     "execution_count": 47,
     "metadata": {},
     "output_type": "execute_result"
    }
   ],
   "source": [
    "data.replace('e','a')"
   ]
  },
  {
   "cell_type": "code",
   "execution_count": 48,
   "metadata": {},
   "outputs": [
    {
     "data": {
      "text/plain": [
       "'Every plece hes ots own megoc\\nend own eure.\\nIt os very megocel for every plece'"
      ]
     },
     "execution_count": 48,
     "metadata": {},
     "output_type": "execute_result"
    }
   ],
   "source": [
    "data.replace('a','e').replace('i','o')"
   ]
  },
  {
   "cell_type": "code",
   "execution_count": 50,
   "metadata": {},
   "outputs": [
    {
     "data": {
      "text/plain": [
       "'Every_place_has_its_own_magic\\nand_own aura.\\nIt is very magical for every place'"
      ]
     },
     "execution_count": 50,
     "metadata": {},
     "output_type": "execute_result"
    }
   ],
   "source": [
    "data.replace(' ','_',6)"
   ]
  },
  {
   "cell_type": "code",
   "execution_count": 2,
   "metadata": {},
   "outputs": [
    {
     "name": "stdout",
     "output_type": "stream",
     "text": [
      "python\n"
     ]
    }
   ],
   "source": [
    "from string import punctuation\n",
    "# print(punctuation)\n",
    "text='%p34@y!*-*!t68h#&on404'\n",
    "for i in punctuation + '0123456789':\n",
    "    text=text.replace(i,'')\n",
    "print(text)\n"
   ]
  },
  {
   "cell_type": "code",
   "execution_count": 1,
   "metadata": {},
   "outputs": [
    {
     "name": "stdout",
     "output_type": "stream",
     "text": [
      "4.636363636363637\n"
     ]
    }
   ],
   "source": [
    "sentences ='this is a paragraph which is written just for the purpose of providing content to let the average word length be calculated'\n",
    "total=0\n",
    "for word in sentences.split():\n",
    "    total += len(word)\n",
    "print(total/len(sentences.split()))"
   ]
  }
 ],
 "metadata": {
  "kernelspec": {
   "display_name": "base",
   "language": "python",
   "name": "python3"
  },
  "language_info": {
   "codemirror_mode": {
    "name": "ipython",
    "version": 3
   },
   "file_extension": ".py",
   "mimetype": "text/x-python",
   "name": "python",
   "nbconvert_exporter": "python",
   "pygments_lexer": "ipython3",
   "version": "3.12.3"
  }
 },
 "nbformat": 4,
 "nbformat_minor": 2
}
