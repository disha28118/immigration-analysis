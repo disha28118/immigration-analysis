{
 "cells": [
  {
   "cell_type": "markdown",
   "metadata": {},
   "source": [
    "inheritence\n",
    "- there are no access modifiers in python , everything is public\n",
    "- method overriding"
   ]
  },
  {
   "cell_type": "code",
   "execution_count": 10,
   "metadata": {},
   "outputs": [],
   "source": [
    "#parent class \n",
    "class Shape:\n",
    "    def __init__(self,color,filled):\n",
    "        self.color=color\n",
    "        self.filled=filled\n",
    "\n",
    "def show(self):\n",
    "    print(\"Color:\",self.color)\n",
    "    print(\"Filled:\",self.filled)\n",
    "    "
   ]
  },
  {
   "cell_type": "code",
   "execution_count": 19,
   "metadata": {},
   "outputs": [],
   "source": [
    "#child class\n",
    "class Circle(Shape):\n",
    "    def __init__(self,radius,color,filled) ->None:\n",
    "        super().__init__(color,filled)\n",
    "        self.radius=radius\n",
    "\n",
    "class Rectangle(Shape):\n",
    "    #constructor overriding\n",
    "    def __init__(self,l,b,color,filled) ->None:\n",
    "        super().__init__(color,filled)\n",
    "        self.length=l\n",
    "        self.width=w\n",
    "\n",
    "    #method overriding\n",
    "    def show(self):\n",
    "        super().show()\n",
    "        print(\"Length:\",self.length)\n",
    "        print(\"Width:\",self.width)\n",
    "\n",
    "    def area(self):\n",
    "        return self.length * self.width\n",
    "\n",
    "class Triangle(Shape):\n",
    "    #constructor overriding\n",
    "    def __init__(self,base,height) ->None:\n",
    "        #parent class constructor fixed values\n",
    "        super().__init__(color='red',filled=True)\n",
    "        self.base=base\n",
    "        self.height=height"
   ]
  },
  {
   "cell_type": "code",
   "execution_count": null,
   "metadata": {},
   "outputs": [],
   "source": [
    "circle=Circle(5,'red',True)\n",
    "circle.show()\n",
    "rect=Rectangle(10,5,'green',False)\n",
    "rect.show()\n",
    "print(\"Rectangle area:\",rect.area())\n",
    "tri=Triangle(10,5)\n",
    "tri.show()"
   ]
  },
  {
   "cell_type": "markdown",
   "metadata": {},
   "source": []
  }
 ],
 "metadata": {
  "kernelspec": {
   "display_name": "base",
   "language": "python",
   "name": "python3"
  },
  "language_info": {
   "codemirror_mode": {
    "name": "ipython",
    "version": 3
   },
   "file_extension": ".py",
   "mimetype": "text/x-python",
   "name": "python",
   "nbconvert_exporter": "python",
   "pygments_lexer": "ipython3",
   "version": "3.12.3"
  }
 },
 "nbformat": 4,
 "nbformat_minor": 2
}
